{
 "cells": [
  {
   "cell_type": "markdown",
   "metadata": {},
   "source": [
    "- 代码功能：实现 KNN 算法，用于字符识别。\n",
    "\n",
    "- 使用方法：将代码中要判断的 `test_file` 的文件路径和数据集的路径替换为实际的文件路径，然后运行代码即可。\n",
    "\n",
    "- 改进建议：你们可以尝试创建测试集来选取最优的 K 值。"
   ]
  },
  {
   "cell_type": "code",
   "execution_count": 1,
   "metadata": {},
   "outputs": [],
   "source": [
    "import numpy as np \n",
    "from collections import Counter #使用 Python 的内置模块 collections 中的 Counter 类来统计列表中元素的频率，并找到出现频率最大的元素。"
   ]
  },
  {
   "cell_type": "code",
   "execution_count": 2,
   "metadata": {},
   "outputs": [],
   "source": [
    "def read_matrix(file_name):\n",
    "    '''\n",
    "    读取 txt 文件并返回矩阵\n",
    "    file_name: 文件名\n",
    "    '''\n",
    "    with open(file_name, 'r') as f: # 打开文件，结束后会自动关闭\n",
    "        lines = f.readlines() # lines 是一个列表，包含文件中的每一行\n",
    "    matrix = []\n",
    "    for line in lines:\n",
    "\n",
    "        matrix.append([x for x in line.replace('\\n', '').replace('\\r', '') # 去除换行符\n",
    "])\n",
    "    return matrix"
   ]
  },
  {
   "cell_type": "code",
   "execution_count": 3,
   "metadata": {},
   "outputs": [],
   "source": [
    "def become_vector(matrix):\n",
    "    '''\n",
    "    将 32 * 32 矩阵转化为 1 * 1024 向量\n",
    "    matrix: 32 * 32 矩阵\n",
    "    '''\n",
    "    vector = np.array(matrix) # 将列表转化为 numpy 中的 array 的类型\n",
    "    return vector.flatten().astype(float) # 将字符串转化为浮点数，便于计算\n",
    "    "
   ]
  },
  {
   "cell_type": "code",
   "execution_count": 4,
   "metadata": {},
   "outputs": [],
   "source": [
    "def create_label(labels):\n",
    "    '''\n",
    "    创建标签\n",
    "    labels: 标签列表\n",
    "\n",
    "    > 0 ~ 9 sample 001~010\n",
    "    > A ~ Z sample 11~036\n",
    "    > a ~ z sample 37~062\n",
    "    '''\n",
    "    for i in range(10):  # 0 到 9\n",
    "        labels.extend([str(i)] * 55)\n",
    "\n",
    "    for char in range(65, 91):  # A 到 Z\n",
    "        labels.extend([chr(char)] * 55)\n",
    "\n",
    "    for char in range(97, 123):  # a 到 z\n",
    "        labels.extend([chr(char)] * 55)\n"
   ]
  },
  {
   "cell_type": "code",
   "execution_count": 5,
   "metadata": {},
   "outputs": [],
   "source": [
    "def sort_result(distances, labels):\n",
    "    '''\n",
    "    对距离和标签进行排序\n",
    "    distances: 距离列表\n",
    "    labels: 标签列表\n",
    "    '''\n",
    "    # 使用 zip 函数将距离列表和标签列表合并成元组列表\n",
    "    combined_data = list(zip(distances, labels)) \n",
    "    # 根据距离进行排序\n",
    "    sorted_data = sorted(combined_data, key=lambda x: x[0])\n",
    "    return sorted_data\n",
    "\n",
    "def get_top_K(sorted_data,k):\n",
    "    '''\n",
    "    获取前五个最小距离的元组\n",
    "    sorted_data: 排序后的数据\n",
    "    ''' \n",
    "\n",
    "    result_list=sorted_data[:k]\n",
    "    top_K_labels = [item[1] for item in result_list]\n",
    "    return top_K_labels"
   ]
  },
  {
   "cell_type": "code",
   "execution_count": 6,
   "metadata": {},
   "outputs": [],
   "source": [
    "def most_neibor(top_K_labels):\n",
    "    '''\n",
    "    统计列表中出现频率最大的元素并输出。\n",
    "    top_K_labels: 前五个最小距离的标签列表\n",
    "    '''\n",
    "\n",
    "    counter = Counter(top_K_labels) # 使用 Counter 类来统计列表中元素的频率\n",
    "\n",
    "    most_common = counter.most_common(1) # 获取出现频率最大的元素\n",
    "\n",
    "    return most_common[0][0]"
   ]
  },
  {
   "cell_type": "code",
   "execution_count": 7,
   "metadata": {},
   "outputs": [],
   "source": [
    "def calculate_distance(vector1, vector2):\n",
    "    '''\n",
    "    计算两个向量的欧氏距离\n",
    "    vector1: 向量1\n",
    "    vector2: 向量2\n",
    "    '''\n",
    "    return np.sqrt(np.sum(np.square(vector1 - vector2))) # 计算欧氏距离并返回"
   ]
  },
  {
   "cell_type": "code",
   "execution_count": 8,
   "metadata": {},
   "outputs": [],
   "source": [
    "def get_distances(distances,vector1):\n",
    "    '''\n",
    "    遍历指定目录下的所有文件\n",
    "\n",
    "    '''\n",
    "    for i in range(1, 63):\n",
    "        for j in range(1, 56):\n",
    "            sam = '%03d' % i\n",
    "            img = '%03d' % j\n",
    "            file = f\"bin\\\\Sample{sam}\\\\img{sam}-{img}.txt\"\n",
    "            data = read_matrix(file)\n",
    "            b = become_vector(data)\n",
    "            distances.append(calculate_distance(vector1, b)) # 计算欧氏距离并写入列表\n"
   ]
  },
  {
   "cell_type": "code",
   "execution_count": 16,
   "metadata": {},
   "outputs": [
    {
     "name": "stdout",
     "output_type": "stream",
     "text": [
      "['O', 'O', 'C', 'C', 'C', 'C', '1', 'j', 'C', 'D']\n",
      "C\n"
     ]
    }
   ],
   "source": [
    "if __name__ == '__main__':\n",
    "    labels = [] # 创建标签空列表\n",
    "    create_label(labels) # 写入标签\n",
    "    test_file = 'test\\\\image.txt' #自定义保存 txt 文件路径，可替换\n",
    "    test_data = read_matrix(test_file) # 读取 txt 文件并返回矩阵\n",
    "    vector1 = become_vector(test_data) # 将 32 * 32 矩阵转化为 1 * 1024 向量\n",
    "    distances = [] # 创建距离空列表\n",
    "    get_distances(distances,vector1) # 遍历指定目录下的所有文件\n",
    "    sorted_data=sort_result(distances, labels) # 对距离和标签进行排序\n",
    "    k=3 # KNN 算法的 K 值，可替换\n",
    "    result=get_top_K(sorted_data,10) # 获取前K个最小距离的元组\n",
    "    \n",
    "    result=most_neibor(result) # 统计列表中出现频率最大的元素\n",
    "    print(result) # 输出结果"
   ]
  },
  {
   "cell_type": "code",
   "execution_count": 17,
   "metadata": {},
   "outputs": [
    {
     "data": {
      "text/plain": [
       "'C'"
      ]
     },
     "execution_count": 17,
     "metadata": {},
     "output_type": "execute_result"
    }
   ],
   "source": [
    "result"
   ]
  },
  {
   "cell_type": "code",
   "execution_count": 18,
   "metadata": {},
   "outputs": [
    {
     "data": {
      "text/plain": [
       "1"
      ]
     },
     "execution_count": 18,
     "metadata": {},
     "output_type": "execute_result"
    }
   ],
   "source": [
    "1"
   ]
  },
  {
   "cell_type": "code",
   "execution_count": null,
   "metadata": {},
   "outputs": [],
   "source": []
  }
 ],
 "metadata": {
  "kernelspec": {
   "display_name": "Python 3",
   "language": "python",
   "name": "python3"
  },
  "language_info": {
   "codemirror_mode": {
    "name": "ipython",
    "version": 3
   },
   "file_extension": ".py",
   "mimetype": "text/x-python",
   "name": "python",
   "nbconvert_exporter": "python",
   "pygments_lexer": "ipython3",
   "version": "3.11.9"
  }
 },
 "nbformat": 4,
 "nbformat_minor": 2
}
