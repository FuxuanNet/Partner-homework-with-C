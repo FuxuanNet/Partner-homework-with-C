{
 "cells": [
  {
   "cell_type": "markdown",
   "metadata": {},
   "source": [
    "- 文件功能：将图片转化为二值化 txt 文件\n",
    "\n",
    "- 使用方法：将 `file_in` 和 `file_out_int` 路径匹配到自己要判断的文件路径，运行即可\n",
    "\n",
    "- 效果展示：\n",
    "```html\n",
    "  00000000000000000000000000000000\n",
    "  00000000000000000000000000000000\n",
    "  00000000000000000000000000000000\n",
    "  00000000000000000000000000000000\n",
    "  00000000000000000000000000000000\n",
    "  00000000000000000000000000000000\n",
    "  00000000000000000000000000000000\n",
    "  00000000000000111110000000000000\n",
    "  00000000000011111111100000000000\n",
    "  00000000000111000001110000000000\n",
    "  00000000000110000000011000000000\n",
    "  00000000001100000000001100000000\n",
    "  00000000001000000000001100000000\n",
    "  00000000011000000000000100000000\n",
    "  00000000011000000000000110000000\n",
    "  00000000010000000000000110000000\n",
    "  00000000010000000000000110000000\n",
    "  00000000010000000000000110000000\n",
    "  00000000011000000000000110000000\n",
    "  00000000011000000000000100000000\n",
    "  00000000001000000000001100000000\n",
    "  00000000001100000000001100000000\n",
    "  00000000000110000000011000000000\n",
    "  00000000000111000001110000000000\n",
    "  00000000000001111111100000000000\n",
    "  00000000000000111110000000000000\n",
    "  00000000000000000000000000000000\n",
    "  00000000000000000000000000000000\n",
    "  00000000000000000000000000000000\n",
    "  00000000000000000000000000000000\n",
    "  00000000000000000000000000000000\n",
    "  00000000000000000000000000000000\n",
    "```"
   ]
  },
  {
   "cell_type": "code",
   "execution_count": 7,
   "metadata": {},
   "outputs": [],
   "source": [
    "import matplotlib.pyplot as plt\n",
    "from PIL import Image\n",
    "import os"
   ]
  },
  {
   "cell_type": "code",
   "execution_count": 8,
   "metadata": {},
   "outputs": [],
   "source": [
    "def handle_int(file_in, width, height, file_out):\n",
    "    '''\n",
    "    功能：将图片转化为二值化 txt 文件\n",
    "    file_in : 输入图片路径\n",
    "    width ：图片宽度\n",
    "    height ：图片高度\n",
    "    file_out : txt文件输出路径\n",
    "    '''\n",
    "    image = Image.open(file_in)\n",
    "    # 缩放处理\n",
    "    im = image.resize((width, height))\n",
    "    # im = resized_image.convert('L')\n",
    "    fh = open(file_out, \"w\")\n",
    "    # 从左向右扫描处理\n",
    "    for i in range(height):\n",
    "        for j in range(width):\n",
    "            # 获取像素点(R, G, B)\n",
    "            c = im.getpixel((j, i))\n",
    "            # rbg三通道相加\n",
    "            cs = c[0] + c[1] + c[2]\n",
    "            # 540是过滤值，可以微调\n",
    "            if cs < 540:\n",
    "                fh.write(\"1\")\n",
    "            else:\n",
    "                fh.write(\"0\")\n",
    "        fh.write(\"\\n\")\n",
    "    fh.close()"
   ]
  },
  {
   "cell_type": "code",
   "execution_count": 9,
   "metadata": {},
   "outputs": [],
   "source": [
    "if __name__ == \"__main__\":\n",
    "    '''图片预处理'''\n",
    "    # 设置图片宽高\n",
    "    width = 32\n",
    "    height = 32\n",
    "    # 遍历数据集中所有图片\n",
    "    for i in range(1, 63):\n",
    "        for j in range(1, 56):\n",
    "            # 读取图片\n",
    "            sam = '%03d' % i\n",
    "            img = '%03d' % j\n",
    "            file_in = f\"Img\\\\Sample{sam}\\\\img{sam}-{img}.png\"\n",
    "            #创建新文件夹并导入转化结果\n",
    "            if not os.path.exists(f\"bin\\\\Sample{sam}\"):\n",
    "                os.makedirs(f\"bin\\\\Sample{sam}\")\n",
    "            file_out_int = f\"bin\\\\Sample{sam}\\\\img{sam}-{img}.txt\"\n",
    "            handle_int(file_in, width, height, file_out_int)\n",
    "\n",
    "        #导入判断图片并转化\n",
    "        file_in = \"test\\\\image.png\" #自定义上传图片路径\n",
    "        file_out_int = \"test\\\\image.txt\" #自定义保存 txt 文件路径\n",
    "        handle_int(file_in, width, height, file_out_int)\n"
   ]
  }
 ],
 "metadata": {
  "kernelspec": {
   "display_name": "Python 3",
   "language": "python",
   "name": "python3"
  },
  "language_info": {
   "codemirror_mode": {
    "name": "ipython",
    "version": 3
   },
   "file_extension": ".py",
   "mimetype": "text/x-python",
   "name": "python",
   "nbconvert_exporter": "python",
   "pygments_lexer": "ipython3",
   "version": "3.11.9"
  }
 },
 "nbformat": 4,
 "nbformat_minor": 2
}
